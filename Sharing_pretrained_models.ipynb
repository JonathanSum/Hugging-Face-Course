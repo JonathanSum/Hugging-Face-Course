{
  "nbformat": 4,
  "nbformat_minor": 0,
  "metadata": {
    "colab": {
      "name": "Sharing pretrained models.ipynb",
      "provenance": [],
      "authorship_tag": "ABX9TyPpB/wo1ULDR2ezCM42wKqb",
      "include_colab_link": true
    },
    "kernelspec": {
      "name": "python3",
      "display_name": "Python 3"
    },
    "language_info": {
      "name": "python"
    }
  },
  "cells": [
    {
      "cell_type": "markdown",
      "metadata": {
        "id": "view-in-github",
        "colab_type": "text"
      },
      "source": [
        "<a href=\"https://colab.research.google.com/github/JonathanSum/Hugging-Face-Course/blob/main/Sharing_pretrained_models.ipynb\" target=\"_parent\"><img src=\"https://colab.research.google.com/assets/colab-badge.svg\" alt=\"Open In Colab\"/></a>"
      ]
    },
    {
      "cell_type": "code",
      "metadata": {
        "colab": {
          "base_uri": "https://localhost:8080/"
        },
        "id": "OwTX-RIGDKmB",
        "outputId": "0126b0f4-d860-48c9-b9c0-047ec50220f5"
      },
      "source": [
        "! pip install datasets transformers[sentencepiece]\n",
        "!pip install hf-lfs"
      ],
      "execution_count": 5,
      "outputs": [
        {
          "output_type": "stream",
          "text": [
            "Requirement already satisfied: datasets in /usr/local/lib/python3.7/dist-packages (1.11.0)\n",
            "Requirement already satisfied: transformers[sentencepiece] in /usr/local/lib/python3.7/dist-packages (4.9.1)\n",
            "Requirement already satisfied: huggingface-hub<0.1.0 in /usr/local/lib/python3.7/dist-packages (from datasets) (0.0.12)\n",
            "Requirement already satisfied: numpy>=1.17 in /usr/local/lib/python3.7/dist-packages (from datasets) (1.19.5)\n",
            "Requirement already satisfied: tqdm>=4.42 in /usr/local/lib/python3.7/dist-packages (from datasets) (4.62.0)\n",
            "Requirement already satisfied: multiprocess in /usr/local/lib/python3.7/dist-packages (from datasets) (0.70.12.2)\n",
            "Requirement already satisfied: fsspec>=2021.05.0 in /usr/local/lib/python3.7/dist-packages (from datasets) (2021.7.0)\n",
            "Requirement already satisfied: packaging in /usr/local/lib/python3.7/dist-packages (from datasets) (21.0)\n",
            "Requirement already satisfied: pyarrow!=4.0.0,>=1.0.0 in /usr/local/lib/python3.7/dist-packages (from datasets) (3.0.0)\n",
            "Requirement already satisfied: importlib-metadata in /usr/local/lib/python3.7/dist-packages (from datasets) (4.6.1)\n",
            "Requirement already satisfied: dill in /usr/local/lib/python3.7/dist-packages (from datasets) (0.3.4)\n",
            "Requirement already satisfied: pandas in /usr/local/lib/python3.7/dist-packages (from datasets) (1.1.5)\n",
            "Requirement already satisfied: xxhash in /usr/local/lib/python3.7/dist-packages (from datasets) (2.0.2)\n",
            "Requirement already satisfied: requests>=2.19.0 in /usr/local/lib/python3.7/dist-packages (from datasets) (2.23.0)\n",
            "Requirement already satisfied: filelock in /usr/local/lib/python3.7/dist-packages (from huggingface-hub<0.1.0->datasets) (3.0.12)\n",
            "Requirement already satisfied: typing-extensions in /usr/local/lib/python3.7/dist-packages (from huggingface-hub<0.1.0->datasets) (3.7.4.3)\n",
            "Requirement already satisfied: pyparsing>=2.0.2 in /usr/local/lib/python3.7/dist-packages (from packaging->datasets) (2.4.7)\n",
            "Requirement already satisfied: urllib3!=1.25.0,!=1.25.1,<1.26,>=1.21.1 in /usr/local/lib/python3.7/dist-packages (from requests>=2.19.0->datasets) (1.24.3)\n",
            "Requirement already satisfied: chardet<4,>=3.0.2 in /usr/local/lib/python3.7/dist-packages (from requests>=2.19.0->datasets) (3.0.4)\n",
            "Requirement already satisfied: idna<3,>=2.5 in /usr/local/lib/python3.7/dist-packages (from requests>=2.19.0->datasets) (2.10)\n",
            "Requirement already satisfied: certifi>=2017.4.17 in /usr/local/lib/python3.7/dist-packages (from requests>=2.19.0->datasets) (2021.5.30)\n",
            "Requirement already satisfied: zipp>=0.5 in /usr/local/lib/python3.7/dist-packages (from importlib-metadata->datasets) (3.5.0)\n",
            "Requirement already satisfied: pytz>=2017.2 in /usr/local/lib/python3.7/dist-packages (from pandas->datasets) (2018.9)\n",
            "Requirement already satisfied: python-dateutil>=2.7.3 in /usr/local/lib/python3.7/dist-packages (from pandas->datasets) (2.8.1)\n",
            "Requirement already satisfied: six>=1.5 in /usr/local/lib/python3.7/dist-packages (from python-dateutil>=2.7.3->pandas->datasets) (1.15.0)\n",
            "Requirement already satisfied: sacremoses in /usr/local/lib/python3.7/dist-packages (from transformers[sentencepiece]) (0.0.45)\n",
            "Requirement already satisfied: pyyaml>=5.1 in /usr/local/lib/python3.7/dist-packages (from transformers[sentencepiece]) (5.4.1)\n",
            "Requirement already satisfied: tokenizers<0.11,>=0.10.1 in /usr/local/lib/python3.7/dist-packages (from transformers[sentencepiece]) (0.10.3)\n",
            "Requirement already satisfied: regex!=2019.12.17 in /usr/local/lib/python3.7/dist-packages (from transformers[sentencepiece]) (2019.12.20)\n",
            "Requirement already satisfied: sentencepiece==0.1.91 in /usr/local/lib/python3.7/dist-packages (from transformers[sentencepiece]) (0.1.91)\n",
            "Requirement already satisfied: protobuf in /usr/local/lib/python3.7/dist-packages (from transformers[sentencepiece]) (3.17.3)\n",
            "Requirement already satisfied: joblib in /usr/local/lib/python3.7/dist-packages (from sacremoses->transformers[sentencepiece]) (1.0.1)\n",
            "Requirement already satisfied: click in /usr/local/lib/python3.7/dist-packages (from sacremoses->transformers[sentencepiece]) (7.1.2)\n",
            "Requirement already satisfied: hf-lfs in /usr/local/lib/python3.7/dist-packages (0.0.3)\n"
          ],
          "name": "stdout"
        }
      ]
    },
    {
      "cell_type": "code",
      "metadata": {
        "id": "EFVt2Zl4Qi00"
      },
      "source": [
        "!git config --global user.email \"777Jonathansum@gmail.com\"\n",
        "!git config --global user.name \"Jonathan Sum\""
      ],
      "execution_count": 6,
      "outputs": []
    },
    {
      "cell_type": "code",
      "metadata": {
        "colab": {
          "base_uri": "https://localhost:8080/"
        },
        "id": "KKj0UrlsQyBB",
        "outputId": "980b557e-0acb-49c3-88a4-30a94050506a"
      },
      "source": [
        "!huggingface-cli login"
      ],
      "execution_count": 7,
      "outputs": [
        {
          "output_type": "stream",
          "text": [
            "\n",
            "        _|    _|  _|    _|    _|_|_|    _|_|_|  _|_|_|  _|      _|    _|_|_|      _|_|_|_|    _|_|      _|_|_|  _|_|_|_|\n",
            "        _|    _|  _|    _|  _|        _|          _|    _|_|    _|  _|            _|        _|    _|  _|        _|\n",
            "        _|_|_|_|  _|    _|  _|  _|_|  _|  _|_|    _|    _|  _|  _|  _|  _|_|      _|_|_|    _|_|_|_|  _|        _|_|_|\n",
            "        _|    _|  _|    _|  _|    _|  _|    _|    _|    _|    _|_|  _|    _|      _|        _|    _|  _|        _|\n",
            "        _|    _|    _|_|      _|_|_|    _|_|_|  _|_|_|  _|      _|    _|_|_|      _|        _|    _|    _|_|_|  _|_|_|_|\n",
            "\n",
            "        \n",
            "Username: JonathanSum\n",
            "Password: \n",
            "Login successful\n",
            "Your token: NFFbAYTBggWQOaJWWgpNkIhfTlbJSgRntOgXZhqjIhjrJNHhuSsqgepiSWIhQNWzTRJZlVKLqqPfgvozkREhPYhryuRcvqwLsGIxXfSTGcPEfGzHvlIlQoeWJyASxWTr \n",
            "\n",
            "Your token has been saved to /root/.huggingface/token\n"
          ],
          "name": "stdout"
        }
      ]
    },
    {
      "cell_type": "code",
      "metadata": {
        "id": "xsLVkwqGQ2a4"
      },
      "source": [
        "from transformers import AutoModelForMaskedLM, AutoTokenizer\n",
        "\n",
        "checkpoint = \"camembert-base\"\n",
        "\n",
        "model = AutoModelForMaskedLM.from_pretrained(checkpoint)\n",
        "tokenizer = AutoTokenizer.from_pretrained(checkpoint)"
      ],
      "execution_count": 8,
      "outputs": []
    },
    {
      "cell_type": "code",
      "metadata": {
        "colab": {
          "base_uri": "https://localhost:8080/",
          "height": 35
        },
        "id": "RFfU4R6LRkz9",
        "outputId": "cbabff73-532a-48af-bc20-4b9d62e423b5"
      },
      "source": [
        "model.push_to_hub(\"dummy-model\")"
      ],
      "execution_count": 9,
      "outputs": [
        {
          "output_type": "execute_result",
          "data": {
            "application/vnd.google.colaboratory.intrinsic+json": {
              "type": "string"
            },
            "text/plain": [
              "'https://huggingface.co/JonathanSum/dummy-model/commit/29e67c6d008bb7722a3ce2a6d905c6cd019f952f'"
            ]
          },
          "metadata": {
            "tags": []
          },
          "execution_count": 9
        }
      ]
    },
    {
      "cell_type": "code",
      "metadata": {
        "colab": {
          "base_uri": "https://localhost:8080/",
          "height": 35
        },
        "id": "TfshuSU7vVJM",
        "outputId": "f4e5847d-325c-4354-9bea-d84aa397206c"
      },
      "source": [
        "tokenizer.push_to_hub(\"dummy-model\")"
      ],
      "execution_count": 10,
      "outputs": [
        {
          "output_type": "execute_result",
          "data": {
            "application/vnd.google.colaboratory.intrinsic+json": {
              "type": "string"
            },
            "text/plain": [
              "'https://huggingface.co/JonathanSum/dummy-model/commit/c2db7aa58025e22ce8f16a4dba331f514d81219c'"
            ]
          },
          "metadata": {
            "tags": []
          },
          "execution_count": 10
        }
      ]
    },
    {
      "cell_type": "code",
      "metadata": {
        "id": "_Ymg2gYVvgmO"
      },
      "source": [
        "!transformers-cli login"
      ],
      "execution_count": null,
      "outputs": []
    },
    {
      "cell_type": "code",
      "metadata": {
        "colab": {
          "base_uri": "https://localhost:8080/"
        },
        "id": "2xL3DIdf8-IJ",
        "outputId": "f9c57e15-2f4d-4172-ba49-ccb616f4ceb5"
      },
      "source": [
        "!transformers-cli -h"
      ],
      "execution_count": 12,
      "outputs": [
        {
          "output_type": "stream",
          "text": [
            "2021-07-31 16:28:28.192635: I tensorflow/stream_executor/platform/default/dso_loader.cc:53] Successfully opened dynamic library libcudart.so.11.0\n",
            "usage: transformers-cli <command> [<args>]\n",
            "\n",
            "positional arguments:\n",
            "  {convert,download,env,run,serve,login,whoami,logout,s3_datasets,upload,repo,add-new-model,lfs-enable-largefiles,lfs-multipart-upload}\n",
            "                        transformers-cli command helpers\n",
            "    convert             CLI tool to run convert model from original author\n",
            "                        checkpoints to Transformers PyTorch checkpoints.\n",
            "    run                 Run a pipeline through the CLI\n",
            "    serve               CLI tool to run inference requests through REST and\n",
            "                        GraphQL endpoints.\n",
            "    login               Log in using the same credentials as on huggingface.co\n",
            "    whoami              Find out which huggingface.co account you are logged\n",
            "                        in as.\n",
            "    logout              Log out\n",
            "    s3_datasets         {ls, rm} Commands to interact with the files you\n",
            "                        upload on S3.\n",
            "    upload              Deprecated: used to be the way to upload a model to\n",
            "                        S3. We now use a git-based system for storing models\n",
            "                        and other artifacts. Use the `repo create` command\n",
            "                        instead.\n",
            "    repo                Deprecated: use `huggingface-cli` instead. {create,\n",
            "                        ls-files} Commands to interact with your\n",
            "                        huggingface.co repos.\n",
            "    lfs-enable-largefiles\n",
            "                        Deprecated: use `huggingface-cli` instead. Configure\n",
            "                        your repository to enable upload of files > 5GB.\n",
            "    lfs-multipart-upload\n",
            "                        Deprecated: use `huggingface-cli` instead. Command\n",
            "                        will get called by git-lfs, do not call it directly.\n",
            "\n",
            "optional arguments:\n",
            "  -h, --help            show this help message and exit\n"
          ],
          "name": "stdout"
        }
      ]
    },
    {
      "cell_type": "code",
      "metadata": {
        "colab": {
          "base_uri": "https://localhost:8080/"
        },
        "id": "NibnxF2LCu03",
        "outputId": "748833f3-823f-428c-a7d6-c57c715b94eb"
      },
      "source": [
        "!huggingface-cli repo create another-dummy-model"
      ],
      "execution_count": 14,
      "outputs": [
        {
          "output_type": "stream",
          "text": [
            "\u001b[90mgit version 2.17.1\u001b[0m\n",
            "\u001b[90mgit-lfs/2.13.3 (GitHub; linux amd64; go 1.16.2; git a5e65851)\u001b[0m\n",
            "\n",
            "You are about to create \u001b[1mJonathanSum/another-dummy-model\u001b[0m\n",
            "Proceed? [Y/n] Y\n",
            "\n",
            "Your repo now lives at:\n",
            "  \u001b[1mhttps://huggingface.co/JonathanSum/another-dummy-model\u001b[0m\n",
            "\n",
            "You can clone it locally with the command below, and commit/push as usual.\n",
            "\n",
            "  git clone https://huggingface.co/JonathanSum/another-dummy-model\n",
            "\n"
          ],
          "name": "stdout"
        }
      ]
    },
    {
      "cell_type": "code",
      "metadata": {
        "colab": {
          "base_uri": "https://localhost:8080/"
        },
        "id": "h1VbFWDaFDAU",
        "outputId": "31cb1e87-0aca-46f5-a25f-15f41f743545"
      },
      "source": [
        "!git lfs install"
      ],
      "execution_count": 15,
      "outputs": [
        {
          "output_type": "stream",
          "text": [
            "Git LFS initialized.\n"
          ],
          "name": "stdout"
        }
      ]
    },
    {
      "cell_type": "code",
      "metadata": {
        "colab": {
          "base_uri": "https://localhost:8080/"
        },
        "id": "AbcYidB_FGTk",
        "outputId": "22e6b8db-9492-45b7-9b1c-0516a2013749"
      },
      "source": [
        "!git clone https://huggingface.co/jonathansum/dummy-model"
      ],
      "execution_count": 16,
      "outputs": [
        {
          "output_type": "stream",
          "text": [
            "fatal: destination path 'dummy-model' already exists and is not an empty directory.\n"
          ],
          "name": "stdout"
        }
      ]
    },
    {
      "cell_type": "code",
      "metadata": {
        "colab": {
          "base_uri": "https://localhost:8080/"
        },
        "id": "IYVLzQHSFTGJ",
        "outputId": "a5f743f0-f458-4228-a2e7-d628b0c20b85"
      },
      "source": [
        "!cd dummy-model && ls"
      ],
      "execution_count": 17,
      "outputs": [
        {
          "output_type": "stream",
          "text": [
            "config.json\t   sentencepiece.bpe.model  tokenizer_config.json\n",
            "pytorch_model.bin  special_tokens_map.json  tokenizer.json\n"
          ],
          "name": "stdout"
        }
      ]
    },
    {
      "cell_type": "code",
      "metadata": {
        "colab": {
          "base_uri": "https://localhost:8080/"
        },
        "id": "M3S_UX3nK07h",
        "outputId": "71e6f3d7-c9e4-49e1-97b5-22996fe5571f"
      },
      "source": [
        "from transformers import AutoModelForMaskedLM, AutoTokenizer\n",
        "\n",
        "checkpoint = \"camembert-base\"\n",
        "\n",
        "model = AutoModelForMaskedLM.from_pretrained(checkpoint)\n",
        "tokenizer = AutoTokenizer.from_pretrained(checkpoint)\n",
        "\n",
        "# Do whatever with the model, train it, fine-tune it...\n",
        "\n",
        "model.save_pretrained(\"<path_to_dummy_folder>\")\n",
        "tokenizer.save_pretrained(\"<path_to_dummy_folder>\")"
      ],
      "execution_count": 18,
      "outputs": [
        {
          "output_type": "execute_result",
          "data": {
            "text/plain": [
              "('<path_to_dummy_folder>/tokenizer_config.json',\n",
              " '<path_to_dummy_folder>/special_tokens_map.json',\n",
              " '<path_to_dummy_folder>/sentencepiece.bpe.model',\n",
              " '<path_to_dummy_folder>/added_tokens.json',\n",
              " '<path_to_dummy_folder>/tokenizer.json')"
            ]
          },
          "metadata": {
            "tags": []
          },
          "execution_count": 18
        }
      ]
    },
    {
      "cell_type": "code",
      "metadata": {
        "colab": {
          "base_uri": "https://localhost:8080/"
        },
        "id": "6nGHBQktK8w1",
        "outputId": "a1c75904-22ec-4235-e31f-0156422896d8"
      },
      "source": [
        "ls"
      ],
      "execution_count": 19,
      "outputs": [
        {
          "output_type": "stream",
          "text": [
            " \u001b[0m\u001b[01;34mdummy-model\u001b[0m/  \u001b[01;34m'<path_to_dummy_folder>'\u001b[0m/   \u001b[01;34msample_data\u001b[0m/\n"
          ],
          "name": "stdout"
        }
      ]
    },
    {
      "cell_type": "code",
      "metadata": {
        "colab": {
          "base_uri": "https://localhost:8080/"
        },
        "id": "UAwUVk70LF9v",
        "outputId": "30fcab86-5165-44c4-ec2c-a361aa2ab534"
      },
      "source": [
        "!ls -lh"
      ],
      "execution_count": 22,
      "outputs": [
        {
          "output_type": "stream",
          "text": [
            "total 12K\n",
            "drwxr-xr-x 4 root root 4.0K Jul 31 17:10  dummy-model\n",
            "drwxr-xr-x 2 root root 4.0K Jul 31 17:08 '<path_to_dummy_folder>'\n",
            "drwxr-xr-x 1 root root 4.0K Jul 16 13:20  sample_data\n"
          ],
          "name": "stdout"
        }
      ]
    },
    {
      "cell_type": "code",
      "metadata": {
        "colab": {
          "base_uri": "https://localhost:8080/"
        },
        "id": "mlmeZGOLLvYc",
        "outputId": "494b1b80-2996-48e3-ec9a-fb9f03d0804c"
      },
      "source": [
        "cd dummy-model"
      ],
      "execution_count": 25,
      "outputs": [
        {
          "output_type": "stream",
          "text": [
            "/content/dummy-model\n"
          ],
          "name": "stdout"
        }
      ]
    },
    {
      "cell_type": "code",
      "metadata": {
        "id": "zvfOThKFLeyo"
      },
      "source": [
        "!git add ."
      ],
      "execution_count": 31,
      "outputs": []
    },
    {
      "cell_type": "code",
      "metadata": {
        "colab": {
          "base_uri": "https://localhost:8080/"
        },
        "id": "ODEjyERhL4dV",
        "outputId": "dd2a002a-67d8-4618-bd5b-d9d1c0af6efa"
      },
      "source": [
        "!git status"
      ],
      "execution_count": 32,
      "outputs": [
        {
          "output_type": "stream",
          "text": [
            "On branch main\n",
            "Your branch is up to date with 'origin/main'.\n",
            "\n",
            "Changes to be committed:\n",
            "  (use \"git reset HEAD <file>...\" to unstage)\n",
            "\n",
            "\t\u001b[32mnew file:   Happy Sugar Life.json\u001b[m\n",
            "\n"
          ],
          "name": "stdout"
        }
      ]
    },
    {
      "cell_type": "code",
      "metadata": {
        "colab": {
          "base_uri": "https://localhost:8080/"
        },
        "id": "inGtOkWlL9YL",
        "outputId": "f60ee4f5-016e-4ae9-e45c-37d7e5e4de24"
      },
      "source": [
        "!git status"
      ],
      "execution_count": 33,
      "outputs": [
        {
          "output_type": "stream",
          "text": [
            "On branch main\n",
            "Your branch is up to date with 'origin/main'.\n",
            "\n",
            "Changes to be committed:\n",
            "  (use \"git reset HEAD <file>...\" to unstage)\n",
            "\n",
            "\t\u001b[32mnew file:   Happy Sugar Life.json\u001b[m\n",
            "\n"
          ],
          "name": "stdout"
        }
      ]
    },
    {
      "cell_type": "code",
      "metadata": {
        "colab": {
          "base_uri": "https://localhost:8080/"
        },
        "id": "ahEU9HwxMSTG",
        "outputId": "8b2eab56-414c-4041-df24-074882b4b089"
      },
      "source": [
        "!git commit -m \"First model version\""
      ],
      "execution_count": 34,
      "outputs": [
        {
          "output_type": "stream",
          "text": [
            "[main 2952560] First model version\n",
            " 1 file changed, 0 insertions(+), 0 deletions(-)\n",
            " create mode 100644 Happy Sugar Life.json\n"
          ],
          "name": "stdout"
        }
      ]
    },
    {
      "cell_type": "code",
      "metadata": {
        "colab": {
          "base_uri": "https://localhost:8080/"
        },
        "id": "d-BPbTzzMT-s",
        "outputId": "dd82701a-b303-473f-b990-cf4b3b801ddf"
      },
      "source": [
        "!git push"
      ],
      "execution_count": 35,
      "outputs": [
        {
          "output_type": "stream",
          "text": [
            "Counting objects: 3, done.\n",
            "Delta compression using up to 2 threads.\n",
            "Compressing objects:  50% (1/2)   \rCompressing objects: 100% (2/2)   \rCompressing objects: 100% (2/2), done.\n",
            "Writing objects:  33% (1/3)   \rWriting objects:  66% (2/3)   \rWriting objects: 100% (3/3)   \rWriting objects: 100% (3/3), 291 bytes | 291.00 KiB/s, done.\n",
            "Total 3 (delta 1), reused 0 (delta 0)\n",
            "To https://huggingface.co/JonathanSum/dummy-model\n",
            "   c2db7aa..2952560  main -> main\n"
          ],
          "name": "stdout"
        }
      ]
    },
    {
      "cell_type": "code",
      "metadata": {
        "id": "wSE-imgoMUAP"
      },
      "source": [
        ""
      ],
      "execution_count": null,
      "outputs": []
    }
  ]
}